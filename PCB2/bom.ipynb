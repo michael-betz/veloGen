{
 "cells": [
  {
   "cell_type": "code",
   "execution_count": 1,
   "metadata": {},
   "outputs": [
    {
     "name": "stdout",
     "output_type": "stream",
     "text": [
      "Using matplotlib backend: TkAgg\n",
      "Populating the interactive namespace from numpy and matplotlib\n"
     ]
    }
   ],
   "source": [
    "%pylab"
   ]
  },
  {
   "cell_type": "code",
   "execution_count": 2,
   "metadata": {},
   "outputs": [],
   "source": [
    "import xmltodict"
   ]
  },
  {
   "cell_type": "code",
   "execution_count": 95,
   "metadata": {},
   "outputs": [],
   "source": [
    "def natural_sort(ll, field='reference'):\n",
    "    ''' natural sort by reference designator '''\n",
    "    def convert(text):\n",
    "        return int(text) if text.isdigit() else text.lower()\n",
    "\n",
    "    def alphanum_key(key):\n",
    "        return [convert(c) for c in re.split('([0-9]+)', key[field])]\n",
    "\n",
    "    return sorted(ll, key=alphanum_key)"
   ]
  },
  {
   "cell_type": "code",
   "execution_count": 7,
   "metadata": {},
   "outputs": [],
   "source": [
    "with open('velogen2.xml') as f:\n",
    "    bom = xmltodict.parse(f.read())"
   ]
  },
  {
   "cell_type": "code",
   "execution_count": 10,
   "metadata": {},
   "outputs": [
    {
     "data": {
      "text/plain": [
       "odict_keys(['@version', 'design', 'components', 'libparts', 'libraries', 'nets'])"
      ]
     },
     "execution_count": 10,
     "metadata": {},
     "output_type": "execute_result"
    }
   ],
   "source": [
    "bom['export'].keys()"
   ]
  },
  {
   "cell_type": "markdown",
   "metadata": {},
   "source": [
    "# Components"
   ]
  },
  {
   "cell_type": "code",
   "execution_count": 86,
   "metadata": {},
   "outputs": [],
   "source": [
    "comps = bom['export']['components']['comp']\n",
    "compsd = dict()\n",
    "for c in comps:\n",
    "    compsd[c['@ref']] = c"
   ]
  },
  {
   "cell_type": "code",
   "execution_count": 88,
   "metadata": {},
   "outputs": [
    {
     "data": {
      "text/plain": [
       "dict_keys(['J1', 'D1', 'D3', 'D2', 'D4', 'Q2', 'D5', 'R1', 'R2', 'J6', 'C2', 'R3', 'C4', 'U3', 'R4', 'C3', 'U1', 'SW1', 'U2', 'C1', 'R5', 'J3', 'J4', 'J5', 'J2', 'TP3', 'TP4', 'TP2', 'TP1', 'U4', 'U5', 'R7', 'R6', 'D6', 'D7', 'Q1'])"
      ]
     },
     "execution_count": 88,
     "metadata": {},
     "output_type": "execute_result"
    }
   ],
   "source": [
    "compsd.keys()"
   ]
  },
  {
   "cell_type": "code",
   "execution_count": 90,
   "metadata": {},
   "outputs": [
    {
     "name": "stdout",
     "output_type": "stream",
     "text": [
      "J1 DYN Connector_JST:JST_XH_S2B-XH-A-1_1x02_P2.50mm_Horizontal\n",
      "D1 SS310 Diode_SMD:D_SMA\n",
      "D3 SS310 Diode_SMD:D_SMA\n",
      "D2 SS310 Diode_SMD:D_SMA\n",
      "D4 SS310 Diode_SMD:D_SMA\n",
      "Q2 DMP10H400SE Package_TO_SOT_SMD:SOT-223-3_TabPin2\n",
      "D5 10V Diode_SMD:D_SOD-123\n",
      "R1 470k Resistor_SMD:R_0805_2012Metric\n",
      "R2 47k Resistor_SMD:R_0805_2012Metric\n",
      "J6 BAT Connector_JST:JST_XH_S2B-XH-A-1_1x02_P2.50mm_Horizontal\n",
      "C2 10u Capacitor_SMD:C_1210_3225Metric\n",
      "R3 47k Resistor_SMD:R_0805_2012Metric\n",
      "C4 10u Capacitor_SMD:C_1210_3225Metric\n",
      "U3 INA219BxD Package_SO:SOIC-8_3.9x4.9mm_P1.27mm\n",
      "R4 R050 Resistor_SMD:R_1206_3216Metric\n",
      "C3 1u Capacitor_SMD:C_0805_2012Metric\n",
      "U1 DCDC_mod myStuff:ebay_dcdc\n",
      "SW1 JMP Connector_PinHeader_2.54mm:PinHeader_1x02_P2.54mm_Horizontal\n",
      "U2 ESP32-WROOM-32 RF_Module:ESP32-WROOM-32\n",
      "C1 1u Capacitor_SMD:C_0805_2012Metric\n",
      "R5 4k7 Resistor_SMD:R_0805_2012Metric\n",
      "J3 AUX0 Connector_JST:JST_XH_S3B-XH-A-1_1x03_P2.50mm_Horizontal\n",
      "J4 AUX1 Connector_JST:JST_XH_S3B-XH-A-1_1x03_P2.50mm_Horizontal\n",
      "J5 AUX2 Connector_JST:JST_XH_S3B-XH-A-1_1x03_P2.50mm_Horizontal\n",
      "J2 Conn_01x05_Male Connector_JST:JST_XH_S5B-XH-A-1_1x05_P2.50mm_Horizontal\n",
      "TP3 TOUCH TestPoint:TestPoint_THTPad_D1.5mm_Drill0.7mm\n",
      "TP4 TOUCH TestPoint:TestPoint_THTPad_D1.5mm_Drill0.7mm\n",
      "TP2 TOUCH TestPoint:TestPoint_THTPad_D1.5mm_Drill0.7mm\n",
      "TP1 TOUCH TestPoint:TestPoint_THTPad_D1.5mm_Drill0.7mm\n",
      "U4 DISP_I2C_EBAY myStuff:DISP_I2C_EBAY\n",
      "U5 POGO_PROG myStuff:myPogoPads\n",
      "R7 470k Resistor_SMD:R_0805_2012Metric\n",
      "R6 47k Resistor_SMD:R_0805_2012Metric\n",
      "D6 B5819WS Diode_SMD:D_SOD-323\n",
      "D7 B5819WS Diode_SMD:D_SOD-323\n",
      "Q1 BSS123 Package_TO_SOT_SMD:SOT-23\n"
     ]
    }
   ],
   "source": [
    "for k, v in compsd.items():\n",
    "    print(k, v['value'], v['footprint'])"
   ]
  },
  {
   "cell_type": "code",
   "execution_count": 61,
   "metadata": {},
   "outputs": [
    {
     "data": {
      "text/plain": [
       "'D1'"
      ]
     },
     "execution_count": 61,
     "metadata": {},
     "output_type": "execute_result"
    }
   ],
   "source": [
    "comps[1][\"@ref\"]"
   ]
  },
  {
   "cell_type": "code",
   "execution_count": 25,
   "metadata": {},
   "outputs": [
    {
     "name": "stdout",
     "output_type": "stream",
     "text": [
      "odict_keys(['@ref', 'value', 'footprint', 'datasheet', 'libsource', 'sheetpath', 'tstamp'])\n"
     ]
    }
   ],
   "source": [
    "print(c.keys())"
   ]
  },
  {
   "cell_type": "code",
   "execution_count": 32,
   "metadata": {},
   "outputs": [
    {
     "data": {
      "text/plain": [
       "OrderedDict([('@lib', 'Transistor_FET'),\n",
       "             ('@part', 'BSS123'),\n",
       "             ('@description', '0.17A Id, 100V Vds, N-Channel MOSFET, SOT-23')])"
      ]
     },
     "execution_count": 32,
     "metadata": {},
     "output_type": "execute_result"
    }
   ],
   "source": [
    "c['libsource']"
   ]
  },
  {
   "cell_type": "code",
   "execution_count": 34,
   "metadata": {},
   "outputs": [
    {
     "data": {
      "text/plain": [
       "OrderedDict([('@names', '/'), ('@tstamps', '/')])"
      ]
     },
     "execution_count": 34,
     "metadata": {},
     "output_type": "execute_result"
    }
   ],
   "source": [
    "c['sheetpath']"
   ]
  },
  {
   "cell_type": "code",
   "execution_count": 35,
   "metadata": {},
   "outputs": [
    {
     "data": {
      "text/plain": [
       "'5F6AB46B'"
      ]
     },
     "execution_count": 35,
     "metadata": {},
     "output_type": "execute_result"
    }
   ],
   "source": [
    "c['tstamp']"
   ]
  },
  {
   "cell_type": "markdown",
   "metadata": {},
   "source": [
    "# Libparts"
   ]
  },
  {
   "cell_type": "code",
   "execution_count": 48,
   "metadata": {},
   "outputs": [
    {
     "name": "stdout",
     "output_type": "stream",
     "text": [
      "Analog_ADC INA219AxD\n",
      "Connector Conn_01x02_Male\n",
      "Connector Conn_01x03_Male\n",
      "Connector Conn_01x05_Male\n",
      "Connector TestPoint\n",
      "Device C\n",
      "Device D_Schottky\n",
      "Device D_Zener\n",
      "Device Q_PMOS_GDS\n",
      "Device R\n",
      "RF_Module ESP32-WROOM-32\n",
      "Switch SW_SPST\n",
      "Transistor_FET BSS138\n",
      "velogen2-rescue DCDC_mod-myStuff\n",
      "velogen2-rescue DISP_I2C_EBAY-myStuff\n",
      "velogen2-rescue POGO_PROG-myStuff\n"
     ]
    }
   ],
   "source": [
    "for p in bom['export']['libparts']['libpart']:\n",
    "    print(p['@lib'], p['@part'])"
   ]
  },
  {
   "cell_type": "code",
   "execution_count": 42,
   "metadata": {},
   "outputs": [
    {
     "data": {
      "text/plain": [
       "odict_keys(['@lib', '@part', 'fields', 'pins'])"
      ]
     },
     "execution_count": 42,
     "metadata": {},
     "output_type": "execute_result"
    }
   ],
   "source": [
    "p.keys()"
   ]
  },
  {
   "cell_type": "code",
   "execution_count": 45,
   "metadata": {},
   "outputs": [
    {
     "data": {
      "text/plain": [
       "OrderedDict([('field',\n",
       "              [OrderedDict([('@name', 'Reference'), ('#text', 'U')]),\n",
       "               OrderedDict([('@name', 'Value'),\n",
       "                            ('#text', 'POGO_PROG-myStuff')]),\n",
       "               OrderedDict([('@name', 'Footprint'),\n",
       "                            ('#text', 'myStuff:myPogoPads')])])])"
      ]
     },
     "execution_count": 45,
     "metadata": {},
     "output_type": "execute_result"
    }
   ],
   "source": [
    "p['fields']"
   ]
  },
  {
   "cell_type": "code",
   "execution_count": 46,
   "metadata": {},
   "outputs": [
    {
     "data": {
      "text/plain": [
       "OrderedDict([('pin',\n",
       "              [OrderedDict([('@num', '1'),\n",
       "                            ('@name', 'RST'),\n",
       "                            ('@type', 'output')]),\n",
       "               OrderedDict([('@num', '2'),\n",
       "                            ('@name', 'RX'),\n",
       "                            ('@type', 'input')]),\n",
       "               OrderedDict([('@num', '3'),\n",
       "                            ('@name', 'TX'),\n",
       "                            ('@type', 'output')]),\n",
       "               OrderedDict([('@num', '4'),\n",
       "                            ('@name', '5V'),\n",
       "                            ('@type', 'power_out')]),\n",
       "               OrderedDict([('@num', '5'),\n",
       "                            ('@name', 'PROG'),\n",
       "                            ('@type', 'passive')]),\n",
       "               OrderedDict([('@num', '6'),\n",
       "                            ('@name', 'GND'),\n",
       "                            ('@type', 'power_out')])])])"
      ]
     },
     "execution_count": 46,
     "metadata": {},
     "output_type": "execute_result"
    }
   ],
   "source": [
    "p['pins']"
   ]
  },
  {
   "cell_type": "markdown",
   "metadata": {},
   "source": [
    "# Symbol Libraries"
   ]
  },
  {
   "cell_type": "code",
   "execution_count": 49,
   "metadata": {},
   "outputs": [
    {
     "data": {
      "text/plain": [
       "OrderedDict([('library',\n",
       "              [OrderedDict([('@logical', 'Analog_ADC'),\n",
       "                            ('uri',\n",
       "                             '/home/michael/kicad/lib/kicad-symbols/Analog_ADC.lib')]),\n",
       "               OrderedDict([('@logical', 'Connector'),\n",
       "                            ('uri',\n",
       "                             '/home/michael/kicad/lib/kicad-symbols/Connector.lib')]),\n",
       "               OrderedDict([('@logical', 'Device'),\n",
       "                            ('uri',\n",
       "                             '/home/michael/kicad/lib/kicad-symbols/Device.lib')]),\n",
       "               OrderedDict([('@logical', 'RF_Module'),\n",
       "                            ('uri',\n",
       "                             '/home/michael/kicad/lib/kicad-symbols/RF_Module.lib')]),\n",
       "               OrderedDict([('@logical', 'Switch'),\n",
       "                            ('uri',\n",
       "                             '/home/michael/kicad/lib/kicad-symbols/Switch.lib')]),\n",
       "               OrderedDict([('@logical', 'Transistor_FET'),\n",
       "                            ('uri',\n",
       "                             '/home/michael/kicad/lib/kicad-symbols/Transistor_FET.lib')]),\n",
       "               OrderedDict([('@logical', 'velogen2-rescue'),\n",
       "                            ('uri',\n",
       "                             '/home/michael/pio_wsp/veloGen/PCB2/velogen2-rescue.lib')])])])"
      ]
     },
     "execution_count": 49,
     "metadata": {},
     "output_type": "execute_result"
    }
   ],
   "source": [
    "bom['export']['libraries']"
   ]
  },
  {
   "cell_type": "markdown",
   "metadata": {},
   "source": [
    "# BOM"
   ]
  },
  {
   "cell_type": "code",
   "execution_count": 71,
   "metadata": {},
   "outputs": [],
   "source": [
    "from collections import defaultdict"
   ]
  },
  {
   "cell_type": "code",
   "execution_count": 128,
   "metadata": {},
   "outputs": [
    {
     "name": "stdout",
     "output_type": "stream",
     "text": [
      "DYN|Connector_JST:JST_XH_S2B-XH-A-1_1x02_P2.50mm_Horizontal\n",
      "SS310|Diode_SMD:D_SMA\n",
      "DMP10H400SE|Package_TO_SOT_SMD:SOT-223-3_TabPin2\n",
      "10V|Diode_SMD:D_SOD-123\n",
      "470k|Resistor_SMD:R_0805_2012Metric\n",
      "47k|Resistor_SMD:R_0805_2012Metric\n",
      "BAT|Connector_JST:JST_XH_S2B-XH-A-1_1x02_P2.50mm_Horizontal\n",
      "10u|Capacitor_SMD:C_1210_3225Metric\n",
      "INA219BxD|Package_SO:SOIC-8_3.9x4.9mm_P1.27mm\n",
      "R050|Resistor_SMD:R_1206_3216Metric\n",
      "1u|Capacitor_SMD:C_0805_2012Metric\n",
      "DCDC_mod|myStuff:ebay_dcdc\n",
      "JMP|Connector_PinHeader_2.54mm:PinHeader_1x02_P2.54mm_Horizontal\n",
      "ESP32-WROOM-32|RF_Module:ESP32-WROOM-32\n",
      "4k7|Resistor_SMD:R_0805_2012Metric\n",
      "AUX0|Connector_JST:JST_XH_S3B-XH-A-1_1x03_P2.50mm_Horizontal\n",
      "AUX1|Connector_JST:JST_XH_S3B-XH-A-1_1x03_P2.50mm_Horizontal\n",
      "AUX2|Connector_JST:JST_XH_S3B-XH-A-1_1x03_P2.50mm_Horizontal\n",
      "Conn_01x05_Male|Connector_JST:JST_XH_S5B-XH-A-1_1x05_P2.50mm_Horizontal\n",
      "TOUCH|TestPoint:TestPoint_THTPad_D1.5mm_Drill0.7mm\n",
      "DISP_I2C_EBAY|myStuff:DISP_I2C_EBAY\n",
      "POGO_PROG|myStuff:myPogoPads\n",
      "B5819WS|Diode_SMD:D_SOD-323\n",
      "BSS123|Package_TO_SOT_SMD:SOT-23\n"
     ]
    }
   ],
   "source": [
    "unique_comps = defaultdict(list)\n",
    "\n",
    "for c in comps:\n",
    "    # same value & footprint = same part\n",
    "    unique_comps[c['value'] + '|' + c['footprint']].append(c)\n",
    "\n",
    "for k in unique_comps.keys():\n",
    "    print(k)"
   ]
  },
  {
   "cell_type": "code",
   "execution_count": 124,
   "metadata": {},
   "outputs": [
    {
     "name": "stdout",
     "output_type": "stream",
     "text": [
      "J1, DYN, Connector_JST:JST_XH_S2B-XH-A-1_1x02_P2.50mm_Horizontal, Generic connector, single row, 01x02, script generated (kicad-library-utils/schlib/autogen/connector/)\n",
      "D1 D2 D3 D4, SS310, Diode_SMD:D_SMA, Schottky diode\n",
      "Q2, DMP10H400SE, Package_TO_SOT_SMD:SOT-223-3_TabPin2, P-MOSFET transistor, gate/drain/source\n",
      "D5, 10V, Diode_SMD:D_SOD-123, Zener diode\n",
      "R1 R7, 470k, Resistor_SMD:R_0805_2012Metric, Resistor\n",
      "R2 R3 R6, 47k, Resistor_SMD:R_0805_2012Metric, Resistor\n",
      "J6, BAT, Connector_JST:JST_XH_S2B-XH-A-1_1x02_P2.50mm_Horizontal, Generic connector, single row, 01x02, script generated (kicad-library-utils/schlib/autogen/connector/)\n",
      "C2 C4, 10u, Capacitor_SMD:C_1210_3225Metric, Unpolarized capacitor\n",
      "U3, INA219BxD, Package_SO:SOIC-8_3.9x4.9mm_P1.27mm, Zero-Drift, HighAccuracy, Bidirectional Current/Power Monitor (0-26V) With I2C Interface, SOIC-8\n",
      "R4, R050, Resistor_SMD:R_1206_3216Metric, Resistor\n",
      "C1 C3, 1u, Capacitor_SMD:C_0805_2012Metric, Unpolarized capacitor\n",
      "U1, DCDC_mod, myStuff:ebay_dcdc, \n",
      "SW1, JMP, Connector_PinHeader_2.54mm:PinHeader_1x02_P2.54mm_Horizontal, Single Pole Single Throw (SPST) switch\n",
      "U2, ESP32-WROOM-32, RF_Module:ESP32-WROOM-32, RF Module, ESP32-D0WDQ6 SoC, Wi-Fi 802.11b/g/n, Bluetooth, BLE, 32-bit, 2.7-3.6V, onboard antenna, SMD\n",
      "R5, 4k7, Resistor_SMD:R_0805_2012Metric, Resistor\n",
      "J3, AUX0, Connector_JST:JST_XH_S3B-XH-A-1_1x03_P2.50mm_Horizontal, Generic connector, single row, 01x03, script generated (kicad-library-utils/schlib/autogen/connector/)\n",
      "J4, AUX1, Connector_JST:JST_XH_S3B-XH-A-1_1x03_P2.50mm_Horizontal, Generic connector, single row, 01x03, script generated (kicad-library-utils/schlib/autogen/connector/)\n",
      "J5, AUX2, Connector_JST:JST_XH_S3B-XH-A-1_1x03_P2.50mm_Horizontal, Generic connector, single row, 01x03, script generated (kicad-library-utils/schlib/autogen/connector/)\n",
      "J2, Conn_01x05_Male, Connector_JST:JST_XH_S5B-XH-A-1_1x05_P2.50mm_Horizontal, Generic connector, single row, 01x05, script generated (kicad-library-utils/schlib/autogen/connector/)\n",
      "TP1 TP2 TP3 TP4, TOUCH, TestPoint:TestPoint_THTPad_D1.5mm_Drill0.7mm, test point\n",
      "U4, DISP_I2C_EBAY, myStuff:DISP_I2C_EBAY, \n",
      "U5, POGO_PROG, myStuff:myPogoPads, \n",
      "D6 D7, B5819WS, Diode_SMD:D_SOD-323, Schottky diode\n",
      "Q1, BSS123, Package_TO_SOT_SMD:SOT-23, 0.17A Id, 100V Vds, N-Channel MOSFET, SOT-23\n"
     ]
    }
   ],
   "source": [
    "for ucs in unique_comps.values():\n",
    "    ucs = natural_sort(ucs, '@ref')\n",
    "    refdes = [uc['@ref'] for uc in ucs]\n",
    "    c = ucs[0]\n",
    "    print(', '.join([\n",
    "        ' '.join(refdes), \n",
    "        c['value'], \n",
    "        c['footprint'], \n",
    "        c['libsource']['@description']\n",
    "    ]))"
   ]
  },
  {
   "cell_type": "code",
   "execution_count": 98,
   "metadata": {},
   "outputs": [
    {
     "name": "stdout",
     "output_type": "stream",
     "text": [
      "DYN|Connector_JST:JST_XH_S2B-XH-A-1_1x02_P2.50mm_Horizontal\n",
      "SS310|Diode_SMD:D_SMA\n",
      "DMP10H400SE|Package_TO_SOT_SMD:SOT-223-3_TabPin2\n",
      "10V|Diode_SMD:D_SOD-123\n",
      "470k|Resistor_SMD:R_0805_2012Metric\n",
      "47k|Resistor_SMD:R_0805_2012Metric\n",
      "BAT|Connector_JST:JST_XH_S2B-XH-A-1_1x02_P2.50mm_Horizontal\n",
      "10u|Capacitor_SMD:C_1210_3225Metric\n",
      "INA219BxD|Package_SO:SOIC-8_3.9x4.9mm_P1.27mm\n",
      "R050|Resistor_SMD:R_1206_3216Metric\n",
      "1u|Capacitor_SMD:C_0805_2012Metric\n",
      "DCDC_mod|myStuff:ebay_dcdc\n",
      "JMP|Connector_PinHeader_2.54mm:PinHeader_1x02_P2.54mm_Horizontal\n",
      "ESP32-WROOM-32|RF_Module:ESP32-WROOM-32\n",
      "4k7|Resistor_SMD:R_0805_2012Metric\n",
      "AUX0|Connector_JST:JST_XH_S3B-XH-A-1_1x03_P2.50mm_Horizontal\n",
      "AUX1|Connector_JST:JST_XH_S3B-XH-A-1_1x03_P2.50mm_Horizontal\n",
      "AUX2|Connector_JST:JST_XH_S3B-XH-A-1_1x03_P2.50mm_Horizontal\n",
      "Conn_01x05_Male|Connector_JST:JST_XH_S5B-XH-A-1_1x05_P2.50mm_Horizontal\n",
      "TOUCH|TestPoint:TestPoint_THTPad_D1.5mm_Drill0.7mm\n",
      "DISP_I2C_EBAY|myStuff:DISP_I2C_EBAY\n",
      "POGO_PROG|myStuff:myPogoPads\n",
      "B5819WS|Diode_SMD:D_SOD-323\n",
      "BSS123|Package_TO_SOT_SMD:SOT-23\n"
     ]
    }
   ],
   "source": [
    "for k, v in unique_comps.items():\n",
    "    print(k)"
   ]
  },
  {
   "cell_type": "markdown",
   "metadata": {},
   "source": [
    "Something like this\n",
    "\n",
    "```\n",
    "470k|Resistor_SMD:R_0805_2012Metric\n",
    "```\n",
    "\n",
    "could be atumatically replaced by a real digikey part"
   ]
  },
  {
   "cell_type": "code",
   "execution_count": null,
   "metadata": {},
   "outputs": [],
   "source": []
  }
 ],
 "metadata": {
  "kernelspec": {
   "display_name": "Python 3",
   "language": "python",
   "name": "python3"
  },
  "language_info": {
   "codemirror_mode": {
    "name": "ipython",
    "version": 3
   },
   "file_extension": ".py",
   "mimetype": "text/x-python",
   "name": "python",
   "nbconvert_exporter": "python",
   "pygments_lexer": "ipython3",
   "version": "3.8.5"
  }
 },
 "nbformat": 4,
 "nbformat_minor": 4
}
